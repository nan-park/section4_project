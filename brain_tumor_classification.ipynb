{
  "nbformat": 4,
  "nbformat_minor": 0,
  "metadata": {
    "colab": {
      "provenance": [],
      "authorship_tag": "ABX9TyPVJfKYLo66JB4Zn9yyW/eg",
      "include_colab_link": true
    },
    "kernelspec": {
      "name": "python3",
      "display_name": "Python 3"
    },
    "language_info": {
      "name": "python"
    },
    "accelerator": "GPU",
    "gpuClass": "standard"
  },
  "cells": [
    {
      "cell_type": "markdown",
      "metadata": {
        "id": "view-in-github",
        "colab_type": "text"
      },
      "source": [
        "<a href=\"https://colab.research.google.com/github/nan-park/section4_project/blob/main/brain_tumor_classification.ipynb\" target=\"_parent\"><img src=\"https://colab.research.google.com/assets/colab-badge.svg\" alt=\"Open In Colab\"/></a>"
      ]
    },
    {
      "cell_type": "markdown",
      "source": [
        "https://www.kaggle.com/datasets/navoneel/brain-mri-images-for-brain-tumor-detection<br>\n",
        "kaggle \"Brain MRI Images for Brain Tumor Detection\" 데이터"
      ],
      "metadata": {
        "id": "Cd_suK36cyLM"
      }
    },
    {
      "cell_type": "code",
      "source": [
        "import tensorflow as tf\n",
        "from sklearn.model_selection import train_test_split"
      ],
      "metadata": {
        "id": "ZrGEMqAac-AT"
      },
      "execution_count": 1,
      "outputs": []
    },
    {
      "cell_type": "code",
      "execution_count": 2,
      "metadata": {
        "colab": {
          "base_uri": "https://localhost:8080/"
        },
        "id": "6je7DmV_Z2Uf",
        "outputId": "70a344d3-60ba-4ed6-ca1d-78713293b4f7"
      },
      "outputs": [
        {
          "output_type": "stream",
          "name": "stdout",
          "text": [
            "Mounted at /content/drive\n"
          ]
        }
      ],
      "source": [
        "from google.colab import drive\n",
        "drive.mount('/content/drive')"
      ]
    },
    {
      "cell_type": "code",
      "source": [
        "!unzip -qq '/content/drive/MyDrive/brain_mri_images.zip'"
      ],
      "metadata": {
        "id": "KohISU7Xc86f"
      },
      "execution_count": 3,
      "outputs": []
    },
    {
      "cell_type": "code",
      "source": [
        "# ds = tf.keras.preprocessing.image_dataset_from_directory('/content/brain_mri_images_for_brain_tumor_detection')"
      ],
      "metadata": {
        "id": "ROJ0bIUBdTYw"
      },
      "execution_count": 4,
      "outputs": []
    },
    {
      "cell_type": "code",
      "source": [
        "!pip install split_folders"
      ],
      "metadata": {
        "colab": {
          "base_uri": "https://localhost:8080/"
        },
        "id": "qg4-A8ewoVYm",
        "outputId": "1f5ed453-a026-477d-bef2-9e3cdb3a29a7"
      },
      "execution_count": 5,
      "outputs": [
        {
          "output_type": "stream",
          "name": "stdout",
          "text": [
            "Looking in indexes: https://pypi.org/simple, https://us-python.pkg.dev/colab-wheels/public/simple/\n",
            "Collecting split_folders\n",
            "  Downloading split_folders-0.5.1-py3-none-any.whl (8.4 kB)\n",
            "Installing collected packages: split-folders\n",
            "Successfully installed split-folders-0.5.1\n"
          ]
        }
      ]
    },
    {
      "cell_type": "code",
      "source": [
        "import splitfolders\n",
        "input_folder = '/content/brain_mri_images_for_brain_tumor_detection'\n",
        "output = '/content/output'\n",
        "\n",
        "splitfolders.ratio(input_folder, output=output, seed=42, ratio=(0.7, 0.3))"
      ],
      "metadata": {
        "colab": {
          "base_uri": "https://localhost:8080/"
        },
        "id": "apAwHYnQmfHa",
        "outputId": "9da26222-777d-4217-9d32-ab4429ccab0e"
      },
      "execution_count": 6,
      "outputs": [
        {
          "output_type": "stream",
          "name": "stderr",
          "text": [
            "Copying files: 253 files [00:00, 7867.49 files/s]\n"
          ]
        }
      ]
    },
    {
      "cell_type": "code",
      "source": [
        "ds_train = tf.keras.preprocessing.image_dataset_from_directory('/content/output/train')\n",
        "ds_test = tf.keras.preprocessing.image_dataset_from_directory('/content/output/val')"
      ],
      "metadata": {
        "colab": {
          "base_uri": "https://localhost:8080/"
        },
        "id": "4j_UdsHBm2Uo",
        "outputId": "369f65f8-8aaa-4c66-b577-4178b15e0860"
      },
      "execution_count": 7,
      "outputs": [
        {
          "output_type": "stream",
          "name": "stdout",
          "text": [
            "Found 176 files belonging to 2 classes.\n",
            "Found 77 files belonging to 2 classes.\n"
          ]
        }
      ]
    },
    {
      "cell_type": "code",
      "source": [
        "from tensorflow.keras.applications.resnet50 import ResNet50\n",
        "from tensorflow.keras.preprocessing import image\n",
        "from tensorflow.keras.applications.resnet50 import preprocess_input, decode_predictions\n",
        "\n",
        "from tensorflow.keras.layers import Dense, GlobalAveragePooling2D, Dropout\n",
        "from tensorflow.keras.models import Model\n",
        "\n",
        "resnet = ResNet50(weights='imagenet', include_top=False)\n",
        "\n",
        "for layer in resnet.layers:\n",
        "    layer.trainable = False\n",
        "\n",
        "x = resnet.output\n",
        "x = GlobalAveragePooling2D()(x)\n",
        "x = Dense(1024, activation='relu')(x)\n",
        "x = Dense(256, activation='relu')(x)\n",
        "x = Dense(32, activation='relu')(x)\n",
        "predictions = Dense(1, activation='sigmoid')(x)\n",
        "model = Model(resnet.input, predictions)"
      ],
      "metadata": {
        "id": "dCem3UYQlKUc"
      },
      "execution_count": 25,
      "outputs": []
    },
    {
      "cell_type": "code",
      "source": [
        "model.compile(\n",
        "    optimizer='adam',\n",
        "    loss='binary_crossentropy',\n",
        "    metrics=['acc']\n",
        ")\n",
        "model.fit(ds_train, batch_size=32, epochs=6, validation_data=ds_test)"
      ],
      "metadata": {
        "colab": {
          "base_uri": "https://localhost:8080/"
        },
        "id": "t71uwKx7ly_r",
        "outputId": "4b26e891-e7ac-4f46-84d5-fed22f51a60f"
      },
      "execution_count": 31,
      "outputs": [
        {
          "output_type": "stream",
          "name": "stdout",
          "text": [
            "Epoch 1/6\n",
            "6/6 [==============================] - 5s 388ms/step - loss: 0.0090 - acc: 1.0000 - val_loss: 1.0067 - val_acc: 0.8571\n",
            "Epoch 2/6\n",
            "6/6 [==============================] - 1s 212ms/step - loss: 0.0053 - acc: 1.0000 - val_loss: 1.0664 - val_acc: 0.8571\n",
            "Epoch 3/6\n",
            "6/6 [==============================] - 2s 248ms/step - loss: 0.0221 - acc: 0.9886 - val_loss: 0.7501 - val_acc: 0.8831\n",
            "Epoch 4/6\n",
            "6/6 [==============================] - 1s 211ms/step - loss: 0.0079 - acc: 0.9943 - val_loss: 0.9033 - val_acc: 0.8701\n",
            "Epoch 5/6\n",
            "6/6 [==============================] - 1s 210ms/step - loss: 0.0103 - acc: 0.9943 - val_loss: 1.3494 - val_acc: 0.8442\n",
            "Epoch 6/6\n",
            "6/6 [==============================] - 2s 241ms/step - loss: 0.0053 - acc: 1.0000 - val_loss: 0.7052 - val_acc: 0.9091\n"
          ]
        },
        {
          "output_type": "execute_result",
          "data": {
            "text/plain": [
              "<keras.callbacks.History at 0x7f0dc7373fd0>"
            ]
          },
          "metadata": {},
          "execution_count": 31
        }
      ]
    },
    {
      "cell_type": "code",
      "source": [
        "model.evaluate(ds_test)"
      ],
      "metadata": {
        "colab": {
          "base_uri": "https://localhost:8080/"
        },
        "id": "M6Lu18uhq0fK",
        "outputId": "0f41aa41-d1ea-4036-a80c-e24cd4b15661"
      },
      "execution_count": 32,
      "outputs": [
        {
          "output_type": "stream",
          "name": "stdout",
          "text": [
            "3/3 [==============================] - 1s 100ms/step - loss: 0.7052 - acc: 0.9091\n"
          ]
        },
        {
          "output_type": "execute_result",
          "data": {
            "text/plain": [
              "[0.70516037940979, 0.9090909361839294]"
            ]
          },
          "metadata": {},
          "execution_count": 32
        }
      ]
    }
  ]
}